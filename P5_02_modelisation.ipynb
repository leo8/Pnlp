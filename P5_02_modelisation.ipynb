{
 "cells": [
  {
   "cell_type": "markdown",
   "id": "7a8d25b2",
   "metadata": {},
   "source": [
    "# Import des librairies et des données nettoyées"
   ]
  },
  {
   "cell_type": "code",
   "execution_count": 1,
   "id": "eb6a8543",
   "metadata": {},
   "outputs": [],
   "source": [
    "import math\n",
    "import pandas as pd\n",
    "import numpy as np\n",
    "import matplotlib.pyplot as plt\n",
    "import seaborn as sns\n",
    "from wordcloud import WordCloud\n",
    "import pickle\n",
    "from sklearn.feature_extraction.text import CountVectorizer, TfidfVectorizer\n",
    "from sklearn.decomposition import LatentDirichletAllocation"
   ]
  },
  {
   "cell_type": "code",
   "execution_count": 2,
   "id": "a09d6241",
   "metadata": {},
   "outputs": [],
   "source": [
    "data = pd.read_csv('clean_data.csv', index_col=[0])"
   ]
  },
  {
   "cell_type": "code",
   "execution_count": 3,
   "id": "194f8aaf",
   "metadata": {},
   "outputs": [
    {
     "data": {
      "text/html": [
       "<div>\n",
       "<style scoped>\n",
       "    .dataframe tbody tr th:only-of-type {\n",
       "        vertical-align: middle;\n",
       "    }\n",
       "\n",
       "    .dataframe tbody tr th {\n",
       "        vertical-align: top;\n",
       "    }\n",
       "\n",
       "    .dataframe thead th {\n",
       "        text-align: right;\n",
       "    }\n",
       "</style>\n",
       "<table border=\"1\" class=\"dataframe\">\n",
       "  <thead>\n",
       "    <tr style=\"text-align: right;\">\n",
       "      <th></th>\n",
       "      <th>Title</th>\n",
       "      <th>Body</th>\n",
       "      <th>Tags</th>\n",
       "      <th>Id</th>\n",
       "      <th>Score</th>\n",
       "      <th>ViewCount</th>\n",
       "      <th>FavoriteCount</th>\n",
       "      <th>AnswerCount</th>\n",
       "      <th>Code</th>\n",
       "      <th>TitleLength</th>\n",
       "      <th>FirstTag</th>\n",
       "      <th>FullPost</th>\n",
       "    </tr>\n",
       "  </thead>\n",
       "  <tbody>\n",
       "    <tr>\n",
       "      <th>0</th>\n",
       "      <td>directory listing</td>\n",
       "      <td>scan directory folder file need cross platform</td>\n",
       "      <td>c file directory cross-platform common-tasks</td>\n",
       "      <td>12489</td>\n",
       "      <td>65</td>\n",
       "      <td>135968</td>\n",
       "      <td>21</td>\n",
       "      <td>9</td>\n",
       "      <td>NaN</td>\n",
       "      <td>2</td>\n",
       "      <td>c</td>\n",
       "      <td>directory listing scan directory folder file n...</td>\n",
       "    </tr>\n",
       "    <tr>\n",
       "      <th>1</th>\n",
       "      <td>return datatables wcf dotnet</td>\n",
       "      <td>wcf service want return datatable know highly ...</td>\n",
       "      <td>c# .net wcf web-services datatable</td>\n",
       "      <td>12702</td>\n",
       "      <td>51</td>\n",
       "      <td>56176</td>\n",
       "      <td>12</td>\n",
       "      <td>8</td>\n",
       "      <td>datacontract  public datatable gettbl        ...</td>\n",
       "      <td>4</td>\n",
       "      <td>c#</td>\n",
       "      <td>return datatables wcf dotnet wcf service want ...</td>\n",
       "    </tr>\n",
       "    <tr>\n",
       "      <th>2</th>\n",
       "      <td>difference struct class dotnet</td>\n",
       "      <td>difference struct class dotnet</td>\n",
       "      <td>.net class struct value-type reference-type</td>\n",
       "      <td>13049</td>\n",
       "      <td>830</td>\n",
       "      <td>453890</td>\n",
       "      <td>296</td>\n",
       "      <td>19</td>\n",
       "      <td>NaN</td>\n",
       "      <td>4</td>\n",
       "      <td>.net</td>\n",
       "      <td>difference struct class dotnet difference stru...</td>\n",
       "    </tr>\n",
       "    <tr>\n",
       "      <th>3</th>\n",
       "      <td>mysqli pdo pro</td>\n",
       "      <td>place split use mysqli pdo stuff prepared stat...</td>\n",
       "      <td>php mysql pdo mysqli database-abstraction</td>\n",
       "      <td>13569</td>\n",
       "      <td>342</td>\n",
       "      <td>143841</td>\n",
       "      <td>284</td>\n",
       "      <td>13</td>\n",
       "      <td>NaN</td>\n",
       "      <td>3</td>\n",
       "      <td>php</td>\n",
       "      <td>mysqli pdo pro place split use mysqli pdo stuf...</td>\n",
       "    </tr>\n",
       "    <tr>\n",
       "      <th>4</th>\n",
       "      <td>scroll overflow divs javascript</td>\n",
       "      <td>div use overflow auto content inside div resiz...</td>\n",
       "      <td>javascript jquery ajax html scroll</td>\n",
       "      <td>13362</td>\n",
       "      <td>49</td>\n",
       "      <td>67437</td>\n",
       "      <td>10</td>\n",
       "      <td>6</td>\n",
       "      <td>thediv   scrolltop       thediv   scrollhe...</td>\n",
       "      <td>4</td>\n",
       "      <td>javascript</td>\n",
       "      <td>scroll overflow divs javascript div use overfl...</td>\n",
       "    </tr>\n",
       "  </tbody>\n",
       "</table>\n",
       "</div>"
      ],
      "text/plain": [
       "                             Title  \\\n",
       "0                directory listing   \n",
       "1     return datatables wcf dotnet   \n",
       "2   difference struct class dotnet   \n",
       "3                   mysqli pdo pro   \n",
       "4  scroll overflow divs javascript   \n",
       "\n",
       "                                                Body  \\\n",
       "0     scan directory folder file need cross platform   \n",
       "1  wcf service want return datatable know highly ...   \n",
       "2                     difference struct class dotnet   \n",
       "3  place split use mysqli pdo stuff prepared stat...   \n",
       "4  div use overflow auto content inside div resiz...   \n",
       "\n",
       "                                            Tags     Id  Score  ViewCount  \\\n",
       "0  c file directory cross-platform common-tasks   12489     65     135968   \n",
       "1            c# .net wcf web-services datatable   12702     51      56176   \n",
       "2   .net class struct value-type reference-type   13049    830     453890   \n",
       "3     php mysql pdo mysqli database-abstraction   13569    342     143841   \n",
       "4            javascript jquery ajax html scroll   13362     49      67437   \n",
       "\n",
       "   FavoriteCount  AnswerCount  \\\n",
       "0             21            9   \n",
       "1             12            8   \n",
       "2            296           19   \n",
       "3            284           13   \n",
       "4             10            6   \n",
       "\n",
       "                                                Code  TitleLength    FirstTag  \\\n",
       "0                                                NaN            2           c   \n",
       "1   datacontract  public datatable gettbl        ...            4          c#   \n",
       "2                                                NaN            4        .net   \n",
       "3                                                NaN            3         php   \n",
       "4      thediv   scrolltop       thediv   scrollhe...            4  javascript   \n",
       "\n",
       "                                            FullPost  \n",
       "0  directory listing scan directory folder file n...  \n",
       "1  return datatables wcf dotnet wcf service want ...  \n",
       "2  difference struct class dotnet difference stru...  \n",
       "3  mysqli pdo pro place split use mysqli pdo stuf...  \n",
       "4  scroll overflow divs javascript div use overfl...  "
      ]
     },
     "execution_count": 3,
     "metadata": {},
     "output_type": "execute_result"
    }
   ],
   "source": [
    "data.head()"
   ]
  },
  {
   "cell_type": "code",
   "execution_count": 4,
   "id": "264e724f",
   "metadata": {},
   "outputs": [],
   "source": [
    "data.drop(['FirstTag', 'TitleLength'], axis=1, inplace=True)"
   ]
  },
  {
   "cell_type": "code",
   "execution_count": 5,
   "id": "aa0bd693",
   "metadata": {},
   "outputs": [],
   "source": [
    "def replace_nan_with_empty_string(text):\n",
    "    if type(text) != str:\n",
    "        if math.isnan(text):\n",
    "            return ' '\n",
    "    else:\n",
    "        return text"
   ]
  },
  {
   "cell_type": "code",
   "execution_count": 6,
   "id": "2486aa00",
   "metadata": {},
   "outputs": [],
   "source": [
    "data['Title'] = data['Title'].apply(replace_nan_with_empty_string)\n",
    "data['Body'] = data['Body'].apply(replace_nan_with_empty_string)\n",
    "data['Code'] = data['Code'].apply(replace_nan_with_empty_string)"
   ]
  },
  {
   "cell_type": "code",
   "execution_count": 7,
   "id": "ce242590",
   "metadata": {},
   "outputs": [
    {
     "data": {
      "text/html": [
       "<div>\n",
       "<style scoped>\n",
       "    .dataframe tbody tr th:only-of-type {\n",
       "        vertical-align: middle;\n",
       "    }\n",
       "\n",
       "    .dataframe tbody tr th {\n",
       "        vertical-align: top;\n",
       "    }\n",
       "\n",
       "    .dataframe thead th {\n",
       "        text-align: right;\n",
       "    }\n",
       "</style>\n",
       "<table border=\"1\" class=\"dataframe\">\n",
       "  <thead>\n",
       "    <tr style=\"text-align: right;\">\n",
       "      <th></th>\n",
       "      <th>Title</th>\n",
       "      <th>Body</th>\n",
       "      <th>Tags</th>\n",
       "      <th>Id</th>\n",
       "      <th>Score</th>\n",
       "      <th>ViewCount</th>\n",
       "      <th>FavoriteCount</th>\n",
       "      <th>AnswerCount</th>\n",
       "      <th>Code</th>\n",
       "      <th>FullPost</th>\n",
       "    </tr>\n",
       "  </thead>\n",
       "  <tbody>\n",
       "    <tr>\n",
       "      <th>0</th>\n",
       "      <td>directory listing</td>\n",
       "      <td>scan directory folder file need cross platform</td>\n",
       "      <td>c file directory cross-platform common-tasks</td>\n",
       "      <td>12489</td>\n",
       "      <td>65</td>\n",
       "      <td>135968</td>\n",
       "      <td>21</td>\n",
       "      <td>9</td>\n",
       "      <td></td>\n",
       "      <td>directory listing scan directory folder file n...</td>\n",
       "    </tr>\n",
       "    <tr>\n",
       "      <th>1</th>\n",
       "      <td>return datatables wcf dotnet</td>\n",
       "      <td>wcf service want return datatable know highly ...</td>\n",
       "      <td>c# .net wcf web-services datatable</td>\n",
       "      <td>12702</td>\n",
       "      <td>51</td>\n",
       "      <td>56176</td>\n",
       "      <td>12</td>\n",
       "      <td>8</td>\n",
       "      <td>datacontract  public datatable gettbl        ...</td>\n",
       "      <td>return datatables wcf dotnet wcf service want ...</td>\n",
       "    </tr>\n",
       "    <tr>\n",
       "      <th>2</th>\n",
       "      <td>difference struct class dotnet</td>\n",
       "      <td>difference struct class dotnet</td>\n",
       "      <td>.net class struct value-type reference-type</td>\n",
       "      <td>13049</td>\n",
       "      <td>830</td>\n",
       "      <td>453890</td>\n",
       "      <td>296</td>\n",
       "      <td>19</td>\n",
       "      <td></td>\n",
       "      <td>difference struct class dotnet difference stru...</td>\n",
       "    </tr>\n",
       "    <tr>\n",
       "      <th>3</th>\n",
       "      <td>mysqli pdo pro</td>\n",
       "      <td>place split use mysqli pdo stuff prepared stat...</td>\n",
       "      <td>php mysql pdo mysqli database-abstraction</td>\n",
       "      <td>13569</td>\n",
       "      <td>342</td>\n",
       "      <td>143841</td>\n",
       "      <td>284</td>\n",
       "      <td>13</td>\n",
       "      <td></td>\n",
       "      <td>mysqli pdo pro place split use mysqli pdo stuf...</td>\n",
       "    </tr>\n",
       "    <tr>\n",
       "      <th>4</th>\n",
       "      <td>scroll overflow divs javascript</td>\n",
       "      <td>div use overflow auto content inside div resiz...</td>\n",
       "      <td>javascript jquery ajax html scroll</td>\n",
       "      <td>13362</td>\n",
       "      <td>49</td>\n",
       "      <td>67437</td>\n",
       "      <td>10</td>\n",
       "      <td>6</td>\n",
       "      <td>thediv   scrolltop       thediv   scrollhe...</td>\n",
       "      <td>scroll overflow divs javascript div use overfl...</td>\n",
       "    </tr>\n",
       "  </tbody>\n",
       "</table>\n",
       "</div>"
      ],
      "text/plain": [
       "                             Title  \\\n",
       "0                directory listing   \n",
       "1     return datatables wcf dotnet   \n",
       "2   difference struct class dotnet   \n",
       "3                   mysqli pdo pro   \n",
       "4  scroll overflow divs javascript   \n",
       "\n",
       "                                                Body  \\\n",
       "0     scan directory folder file need cross platform   \n",
       "1  wcf service want return datatable know highly ...   \n",
       "2                     difference struct class dotnet   \n",
       "3  place split use mysqli pdo stuff prepared stat...   \n",
       "4  div use overflow auto content inside div resiz...   \n",
       "\n",
       "                                            Tags     Id  Score  ViewCount  \\\n",
       "0  c file directory cross-platform common-tasks   12489     65     135968   \n",
       "1            c# .net wcf web-services datatable   12702     51      56176   \n",
       "2   .net class struct value-type reference-type   13049    830     453890   \n",
       "3     php mysql pdo mysqli database-abstraction   13569    342     143841   \n",
       "4            javascript jquery ajax html scroll   13362     49      67437   \n",
       "\n",
       "   FavoriteCount  AnswerCount  \\\n",
       "0             21            9   \n",
       "1             12            8   \n",
       "2            296           19   \n",
       "3            284           13   \n",
       "4             10            6   \n",
       "\n",
       "                                                Code  \\\n",
       "0                                                      \n",
       "1   datacontract  public datatable gettbl        ...   \n",
       "2                                                      \n",
       "3                                                      \n",
       "4      thediv   scrolltop       thediv   scrollhe...   \n",
       "\n",
       "                                            FullPost  \n",
       "0  directory listing scan directory folder file n...  \n",
       "1  return datatables wcf dotnet wcf service want ...  \n",
       "2  difference struct class dotnet difference stru...  \n",
       "3  mysqli pdo pro place split use mysqli pdo stuf...  \n",
       "4  scroll overflow divs javascript div use overfl...  "
      ]
     },
     "execution_count": 7,
     "metadata": {},
     "output_type": "execute_result"
    }
   ],
   "source": [
    "data.head()"
   ]
  },
  {
   "cell_type": "markdown",
   "id": "7b4b0de6",
   "metadata": {},
   "source": [
    "# Approche non supervisée : Latent Dirichlet Allocation"
   ]
  },
  {
   "cell_type": "code",
   "execution_count": 8,
   "id": "3ffc3918",
   "metadata": {},
   "outputs": [
    {
     "name": "stderr",
     "output_type": "stream",
     "text": [
      "/Users/leodray/opt/anaconda3/lib/python3.8/site-packages/sklearn/utils/deprecation.py:87: FutureWarning: Function get_feature_names is deprecated; get_feature_names is deprecated in 1.0 and will be removed in 1.2. Please use get_feature_names_out instead.\n",
      "  warnings.warn(msg, category=FutureWarning)\n"
     ]
    }
   ],
   "source": [
    "vectorizer = CountVectorizer()\n",
    "vectorized_text = vectorizer.fit_transform(data['FullPost'])\n",
    "feature_names = vectorizer.get_feature_names()"
   ]
  },
  {
   "cell_type": "code",
   "execution_count": null,
   "id": "f67da793",
   "metadata": {},
   "outputs": [],
   "source": [
    "lda_model = LatentDirichletAllocation(n_components=100,\n",
    "                                      max_iter=5,\n",
    "                                      learning_method='online',\n",
    "                                      learning_offset=50.,\n",
    "                                      n_jobs=4,\n",
    "                                      random_state=0).fit(vectorized_text)"
   ]
  },
  {
   "cell_type": "code",
   "execution_count": null,
   "id": "563a442d",
   "metadata": {},
   "outputs": [],
   "source": []
  },
  {
   "cell_type": "code",
   "execution_count": null,
   "id": "6a08362e",
   "metadata": {},
   "outputs": [],
   "source": []
  },
  {
   "cell_type": "code",
   "execution_count": null,
   "id": "4f431228",
   "metadata": {},
   "outputs": [],
   "source": []
  },
  {
   "cell_type": "code",
   "execution_count": null,
   "id": "66ed7abe",
   "metadata": {},
   "outputs": [],
   "source": [
    "#### REVOIR CETTE PARTIE --> UTILISATION DE COUNT_VECTORIZER ET TF-IDF ######"
   ]
  },
  {
   "cell_type": "code",
   "execution_count": null,
   "id": "98f69e05",
   "metadata": {},
   "outputs": [],
   "source": []
  },
  {
   "cell_type": "code",
   "execution_count": null,
   "id": "42f3307b",
   "metadata": {},
   "outputs": [],
   "source": []
  },
  {
   "cell_type": "code",
   "execution_count": null,
   "id": "4aab4e6d",
   "metadata": {},
   "outputs": [],
   "source": [
    "def sort_coo(coo_matrix):\n",
    "    \"\"\"Sort the values in the TFIDF matrix in descending order\"\"\"\n",
    "    tuples = zip(coo_matrix.col, coo_matrix.data) # FULL POST ?????????????\n",
    "    return sorted(tuples, key=lambda x: (x[1], x[0]), reverse=True)\n",
    "  \n",
    "# Extract the top n words from each topic  \n",
    " \n",
    "def extract_topn_from_vector(feature_names, sorted_items, topn=10):\n",
    "    \"\"\"get the feature names and tf-idf score of top n items\"\"\"\n",
    "    \n",
    "    #use only topn items from vector\n",
    "    sorted_items = sorted_items[:topn]\n",
    " \n",
    "    score_vals = []\n",
    "    feature_vals = []\n",
    "    \n",
    "    # word index and corresponding tf-idf score\n",
    "    for idx, score in sorted_items:\n",
    "        \n",
    "        #keep track of feature name and its corresponding score\n",
    "        score_vals.append(round(score, 3))\n",
    "        feature_vals.append(feature_names[idx])\n",
    " \n",
    "    #create a tuples of feature,score\n",
    "    #results = zip(feature_vals,score_vals)\n",
    "    results= {}\n",
    "    for idx in range(len(feature_vals)):\n",
    "        results[feature_vals[idx]]=score_vals[idx]\n",
    "    return results\n",
    "        \n",
    "def list_topics(model, feature_names, no_top_words):\n",
    "    \"\"\"Build a dictionary of topics' main features\"\"\"\n",
    "    topic_dic={}\n",
    "    for idx, topic in enumerate(model.components_):\n",
    "        topic_dic[idx]=\" \".join([feature_names[i] for i in topic.argsort()[:-no_top_words - 1:-1]])\n",
    "    return topic_dic"
   ]
  },
  {
   "cell_type": "code",
   "execution_count": null,
   "id": "2afa0fe1",
   "metadata": {},
   "outputs": [],
   "source": [
    "tfidf_vectorizer = TfidfVectorizer(sublinear_tf=True, min_df=0.001)\n",
    "tfidf_text = tfidf_vectorizer.fit_transform(data['FullPost'])\n",
    "tfidf_feature_names = tfidf_vectorizer.get_feature_names()\n",
    "topics = list_topics(lda_model, feature_names, 150)\n",
    "\n",
    "tags = set()\n",
    "\n",
    "for i in range(len(topics)):\n",
    "    vector=vectorizer.transform([topics[i]])\n",
    "    sorted_items=sort_coo(vector.tocoo())\n",
    "    tags = tags.union(set(k for k in extract_topn_from_vector(feature_names,sorted_items,20)))"
   ]
  },
  {
   "cell_type": "code",
   "execution_count": null,
   "id": "e6db9755",
   "metadata": {},
   "outputs": [],
   "source": [
    "tag_vectorizer= CountVectorizer()\n",
    "tag_CV=tag_vectorizer.fit_transform(data['Tags'])\n",
    "tag_names=tag_vectorizer.get_feature_names()"
   ]
  },
  {
   "cell_type": "code",
   "execution_count": null,
   "id": "15d506b1",
   "metadata": {},
   "outputs": [],
   "source": [
    "print(\"\\nNumber of Extracted Tags:\")\n",
    "print(len(tags))\n",
    "\n",
    "print(\"\\nTags found in both the extracted tags and the tag column of the dataset:\")\n",
    "\n",
    "cross_tags= [tag for tag in tag_names if tag in tags]\n",
    "print(len(cross_tags))\n",
    "print(sorted(cross_tags))"
   ]
  },
  {
   "cell_type": "code",
   "execution_count": null,
   "id": "1c2a9e44",
   "metadata": {},
   "outputs": [],
   "source": [
    "wordcloud = WordCloud(mode=\"RGBA\", background_color=None, max_words=50)\n",
    "\n",
    "fig = plt.figure(figsize=(20,100))\n",
    "fig.subplots_adjust(hspace=0.1, wspace=0.001)\n",
    "\n",
    "topic = 0\n",
    "for i in range(25):\n",
    "    for j in range(4):\n",
    "        freq={}\n",
    "        for k, l in enumerate(lda_model.components_[topic]):\n",
    "            freq[feature_names[k]]=l\n",
    "        wordcloud.generate_from_frequencies(freq)\n",
    "        plt.subplot2grid((25,4), (i,j))\n",
    "        plt.imshow(wordcloud, interpolation=\"bilinear\")\n",
    "        plt.axis(\"off\")\n",
    "        topic+=1\n",
    "plt.show()"
   ]
  },
  {
   "cell_type": "markdown",
   "id": "375fd36c",
   "metadata": {},
   "source": [
    "### Test de suggestion de tags sur un Post pris au hasard"
   ]
  },
  {
   "cell_type": "code",
   "execution_count": null,
   "id": "6422889b",
   "metadata": {},
   "outputs": [],
   "source": [
    "from random import randint\n",
    "\n",
    "random_id = randint(0, data['FullPost'].shape[0] - 1)\n",
    "data.iloc[[random_id]]"
   ]
  },
  {
   "cell_type": "code",
   "execution_count": null,
   "id": "78c2eac7",
   "metadata": {},
   "outputs": [],
   "source": [
    "vectorized_post = vectorizer.transform(data['FullPost'].iloc[[random_id]])\n",
    "\n",
    "array = lda_model.transform(vectorized_post)\n",
    "\n",
    "best_topic = np.argmax(array)\n",
    "\n",
    "word_freq = {}\n",
    "\n",
    "for k, l in enumerate(lda_model.components_[best_topic]):\n",
    "    word_freq[feature_names[k]]=l"
   ]
  },
  {
   "cell_type": "code",
   "execution_count": null,
   "id": "d428cdef",
   "metadata": {},
   "outputs": [],
   "source": [
    "#Get 5 top words of best topics to suggest tags on a post\n",
    "\n",
    "suggested_tags = sorted(word_freq, key=word_freq.get, reverse=True)[:5]\n",
    "\n",
    "suggested_tags"
   ]
  },
  {
   "cell_type": "markdown",
   "id": "255c22a6",
   "metadata": {},
   "source": [
    "# Approche supervisée"
   ]
  },
  {
   "cell_type": "markdown",
   "id": "0f1ba88a",
   "metadata": {},
   "source": [
    "# Preprocessing"
   ]
  },
  {
   "cell_type": "markdown",
   "id": "5a78201f",
   "metadata": {},
   "source": [
    "Ici, le problème va être de construire une target exploitable à partir de nos tags. Quelle stratégie adopter ?"
   ]
  },
  {
   "cell_type": "code",
   "execution_count": null,
   "id": "c530e4b1",
   "metadata": {},
   "outputs": [],
   "source": [
    "data.Tags.value_counts()"
   ]
  },
  {
   "cell_type": "markdown",
   "id": "9b1035ac",
   "metadata": {},
   "source": [
    "On a énormément de labels différents. On va essayer de réduire le nombre de labels en conservant les 3 tags les plus pertinents pour chaque post."
   ]
  },
  {
   "cell_type": "code",
   "execution_count": null,
   "id": "27cf1fe4",
   "metadata": {},
   "outputs": [],
   "source": [
    "text = ''\n",
    "\n",
    "for e in data['Tags']:\n",
    "    text += e\n",
    "    \n",
    "list_tags = text.split(' ')"
   ]
  },
  {
   "cell_type": "code",
   "execution_count": null,
   "id": "3085f99b",
   "metadata": {},
   "outputs": [],
   "source": [
    "count_tags = pd.Series(list_tags).value_counts()\n",
    "    \n",
    "tags_df=pd.DataFrame(columns=['Tag', 'Count'])\n",
    "tags_df['Tag']=list(count_tags.keys())\n",
    "tags_df['Count']=list(count_tags.values)"
   ]
  },
  {
   "cell_type": "code",
   "execution_count": null,
   "id": "8ee5b629",
   "metadata": {},
   "outputs": [],
   "source": [
    "tags_df.head()"
   ]
  },
  {
   "cell_type": "code",
   "execution_count": null,
   "id": "a74d12d1",
   "metadata": {},
   "outputs": [],
   "source": [
    "def select_tags(tags):\n",
    "    \n",
    "    tags = tags.split(' ')[:-1]\n",
    "    \n",
    "    count_dic = {}\n",
    "    for e in tags:\n",
    "        count_dic[e] = int(tags_df[tags_df['Tag'] == e].Count)\n",
    "        \n",
    "    res = sorted(count_dic, key=count_dic.get, reverse=True)[:3]\n",
    "    \n",
    "    #On ordonne la liste par ordre alphabétique pour plus de lisibilité\n",
    "    res.sort()\n",
    "    \n",
    "    return res\n",
    "    "
   ]
  },
  {
   "cell_type": "code",
   "execution_count": null,
   "id": "68abee3a",
   "metadata": {},
   "outputs": [],
   "source": [
    "data['main_tags'] = data['Tags'].apply(select_tags)"
   ]
  },
  {
   "cell_type": "code",
   "execution_count": null,
   "id": "447a4add",
   "metadata": {},
   "outputs": [],
   "source": [
    "data.head()"
   ]
  },
  {
   "cell_type": "markdown",
   "id": "f48eaff4",
   "metadata": {},
   "source": [
    "On va maintenant utiliser un MultiLabel Binarizer pour encoder notre variable cible."
   ]
  },
  {
   "cell_type": "code",
   "execution_count": null,
   "id": "8f251c03",
   "metadata": {},
   "outputs": [],
   "source": [
    "from sklearn.preprocessing import MultiLabelBinarizer\n",
    "\n",
    "mlb = MultiLabelBinarizer()\n",
    "\n",
    "Y = mlb.fit_transform(data['main_tags'])"
   ]
  },
  {
   "cell_type": "code",
   "execution_count": null,
   "id": "71ba0e8e",
   "metadata": {},
   "outputs": [],
   "source": [
    "Y.shape"
   ]
  },
  {
   "cell_type": "code",
   "execution_count": null,
   "id": "9a9bccdc",
   "metadata": {},
   "outputs": [],
   "source": [
    "#Utiliser MLB plutôt que get_dummies (inverse_transformer)\n",
    "\n",
    "res = mlb.inverse_transform(Y)"
   ]
  },
  {
   "cell_type": "code",
   "execution_count": null,
   "id": "6561b3ac",
   "metadata": {},
   "outputs": [],
   "source": [
    "X = data['FullPost']"
   ]
  },
  {
   "cell_type": "code",
   "execution_count": null,
   "id": "179d0b73",
   "metadata": {},
   "outputs": [],
   "source": [
    "X"
   ]
  },
  {
   "cell_type": "code",
   "execution_count": null,
   "id": "954870c4",
   "metadata": {},
   "outputs": [],
   "source": [
    "from sklearn.model_selection import train_test_split\n",
    "\n",
    "X_train, X_test, y_train, y_test= train_test_split(X, Y,test_size=0.2)"
   ]
  },
  {
   "cell_type": "code",
   "execution_count": null,
   "id": "ea4c1ce6",
   "metadata": {},
   "outputs": [],
   "source": [
    "X_train.head()"
   ]
  },
  {
   "cell_type": "code",
   "execution_count": null,
   "id": "d5a2b055",
   "metadata": {},
   "outputs": [],
   "source": [
    "tfidf_vectorizer = TfidfVectorizer()\n",
    "preprocessed_X_train = tfidf_vectorizer.fit_transform(X_train)"
   ]
  },
  {
   "cell_type": "code",
   "execution_count": null,
   "id": "ab2967d9",
   "metadata": {},
   "outputs": [],
   "source": [
    "y_train"
   ]
  },
  {
   "cell_type": "code",
   "execution_count": null,
   "id": "3cd22d43",
   "metadata": {},
   "outputs": [],
   "source": [
    "preprocessed_X_train"
   ]
  },
  {
   "cell_type": "code",
   "execution_count": null,
   "id": "0fd608e9",
   "metadata": {},
   "outputs": [],
   "source": [
    "X_sample = preprocessed_X_train[0:3000]\n",
    "y_sample = y_train[0:3000]"
   ]
  },
  {
   "cell_type": "code",
   "execution_count": null,
   "id": "7012cbda",
   "metadata": {},
   "outputs": [],
   "source": []
  },
  {
   "cell_type": "code",
   "execution_count": null,
   "id": "93ff9b39",
   "metadata": {},
   "outputs": [],
   "source": [
    "#Multiclass multioutput --> Random forest classifier ?"
   ]
  },
  {
   "cell_type": "code",
   "execution_count": null,
   "id": "9bc93018",
   "metadata": {},
   "outputs": [],
   "source": [
    "from sklearn.ensemble import RandomForestClassifier\n",
    "\n",
    "rfc = RandomForestClassifier()\n",
    "\n",
    "rfc.fit(X_sample, y_sample)"
   ]
  },
  {
   "cell_type": "code",
   "execution_count": null,
   "id": "e9555172",
   "metadata": {},
   "outputs": [],
   "source": [
    "rfc.score(X_sample, y_sample)"
   ]
  },
  {
   "cell_type": "code",
   "execution_count": null,
   "id": "b9b8c15f",
   "metadata": {},
   "outputs": [],
   "source": [
    "preprocessed_X_test = tfidf_vectorizer.transform(X_test)"
   ]
  },
  {
   "cell_type": "code",
   "execution_count": null,
   "id": "2e49adc4",
   "metadata": {},
   "outputs": [],
   "source": [
    "rfc.score(preprocessed_X_test, y_test)"
   ]
  },
  {
   "cell_type": "code",
   "execution_count": null,
   "id": "c6f00a33",
   "metadata": {},
   "outputs": [],
   "source": []
  },
  {
   "cell_type": "code",
   "execution_count": null,
   "id": "bc7a9507",
   "metadata": {},
   "outputs": [],
   "source": []
  },
  {
   "cell_type": "code",
   "execution_count": null,
   "id": "b371fb56",
   "metadata": {},
   "outputs": [],
   "source": [
    "### TO DO"
   ]
  },
  {
   "cell_type": "code",
   "execution_count": null,
   "id": "ca91671c",
   "metadata": {},
   "outputs": [],
   "source": []
  },
  {
   "cell_type": "code",
   "execution_count": null,
   "id": "891ce990",
   "metadata": {},
   "outputs": [],
   "source": []
  },
  {
   "cell_type": "code",
   "execution_count": null,
   "id": "712b6d00",
   "metadata": {},
   "outputs": [],
   "source": [
    "from sklearn.pipeline import Pipeline\n",
    "from sklearn.multiclass import OneVsRestClassifier"
   ]
  },
  {
   "cell_type": "code",
   "execution_count": null,
   "id": "c0c95728",
   "metadata": {},
   "outputs": [],
   "source": [
    "\"\"\"\n",
    "LGBM_pipeline = Pipeline([\n",
    "                ('tfidf', TfidfVectorizer()),\n",
    "                ('lgbm', OneVsRestClassifier(LGBMClassifier(), n_jobs=1)),\n",
    "            ])\n",
    "\"\"\""
   ]
  },
  {
   "cell_type": "code",
   "execution_count": null,
   "id": "65b5ee3c",
   "metadata": {},
   "outputs": [],
   "source": [
    "\"\"\"\n",
    "LGBM_pipeline = Pipeline([\n",
    "                ('tfidf', TfidfVectorizer()),\n",
    "                ('lgbm', OneVsRestClassifier(LGBMClassifier(), n_jobs=1)),\n",
    "            ])\n",
    "for category in categories:\n",
    "    print('... Processing {}'.format(category))\n",
    "    # train the model using X_dtm & y\n",
    "    SVC_pipeline.fit(X_train, train[category])\n",
    "    # compute the testing accuracy\n",
    "    prediction = SVC_pipeline.predict(X_test)\n",
    "    print('Test accuracy is {}'.format(accuracy_score(test[category], prediction)))\n",
    "\"\"\""
   ]
  },
  {
   "cell_type": "code",
   "execution_count": null,
   "id": "2febe7f2",
   "metadata": {},
   "outputs": [],
   "source": [
    "#labels = mlb.inverse_transform(y_train)"
   ]
  },
  {
   "cell_type": "code",
   "execution_count": null,
   "id": "0e47a3da",
   "metadata": {},
   "outputs": [],
   "source": [
    "#utiliser inverse_transform sur les prédictions"
   ]
  },
  {
   "cell_type": "code",
   "execution_count": null,
   "id": "bbf39ea6",
   "metadata": {},
   "outputs": [],
   "source": [
    "#TF IDF pour vectoriser data['Full_text'] et data['main_tags'] puis LightGBM/RFC"
   ]
  },
  {
   "cell_type": "code",
   "execution_count": null,
   "id": "b0b65a67",
   "metadata": {},
   "outputs": [],
   "source": [
    "# Word2VEC"
   ]
  },
  {
   "cell_type": "code",
   "execution_count": null,
   "id": "8c91e0f5",
   "metadata": {},
   "outputs": [],
   "source": [
    "#1 versus Rest pour sélection du modèle supervisé"
   ]
  },
  {
   "cell_type": "markdown",
   "id": "d46fda4a",
   "metadata": {},
   "source": [
    "# Sentence embedding"
   ]
  },
  {
   "cell_type": "markdown",
   "id": "522cf3aa",
   "metadata": {},
   "source": [
    "### En utilisant le texte après Feature Engineering"
   ]
  },
  {
   "cell_type": "code",
   "execution_count": null,
   "id": "71092c9d",
   "metadata": {},
   "outputs": [],
   "source": [
    "# On utilise sentence transformer\n",
    "\n",
    "from sentence_transformers import util, SentenceTransformer\n",
    "\n",
    "model = SentenceTransformer('sentence-transformers/all-mpnet-base-v2')"
   ]
  },
  {
   "cell_type": "code",
   "execution_count": null,
   "id": "45b28c20",
   "metadata": {},
   "outputs": [],
   "source": [
    "sentences = [\"This is an example sentence\", \"Each sentence is converted\"]\n",
    "\n",
    "embeddings = model.encode(sentences)"
   ]
  },
  {
   "cell_type": "code",
   "execution_count": null,
   "id": "d985b209",
   "metadata": {},
   "outputs": [],
   "source": [
    "preprocessed_X = data['FullPost'].tolist()\n",
    "\n",
    "embeddings = model.encode(preprocessed_X)"
   ]
  },
  {
   "cell_type": "code",
   "execution_count": null,
   "id": "a753f7ea",
   "metadata": {},
   "outputs": [],
   "source": [
    "top_words = tags_df['Tag'].tolist()[0:3000]\n",
    "\n",
    "word_embeddings = model.encode(top_words)"
   ]
  },
  {
   "cell_type": "code",
   "execution_count": null,
   "id": "add3ea4c",
   "metadata": {},
   "outputs": [],
   "source": [
    "cosine_scores = util.cos_sim(embeddings, word_embeddings)"
   ]
  },
  {
   "cell_type": "code",
   "execution_count": null,
   "id": "83cd64c1",
   "metadata": {},
   "outputs": [],
   "source": [
    "for i in range(10):\n",
    "    print('POST :')\n",
    "    print(' ')\n",
    "    print(preprocessed_X[i])\n",
    "    print(' ')\n",
    "    print('SUGGESTED TAGS :')\n",
    "    print(' ')\n",
    "    \n",
    "    best_tags = zip([int(e) for e in cosine_scores[i].sort(descending=True)[1][0:5]],\n",
    "          [float(e) for e in cosine_scores[i].sort(descending=True)[0][0:5]])\n",
    "    \n",
    "    for j, k in best_tags:\n",
    "        print(top_words[j], k)\n",
    "    \n",
    "    #print(sample_words[int(cosine_scores[i].argmax())], float(cosine_scores[i].max()))\n",
    "    print(' ')\n",
    "    \n",
    "    print('ORIGINAL TAGS :')\n",
    "    print(' ')\n",
    "    print(data['Tags'][i])\n",
    "    \n",
    "    print('\"\"\"\"\"\"\"\"\"\"\"\"\"\"\"\"\"\"\"\"')"
   ]
  },
  {
   "cell_type": "markdown",
   "id": "ae0adc86",
   "metadata": {},
   "source": [
    "### En utilisant le langage naturel"
   ]
  },
  {
   "cell_type": "code",
   "execution_count": null,
   "id": "43fe65a4",
   "metadata": {},
   "outputs": [],
   "source": [
    "# On recharge les données initiales"
   ]
  },
  {
   "cell_type": "code",
   "execution_count": null,
   "id": "eaef8fd4",
   "metadata": {},
   "outputs": [],
   "source": [
    "raw_data = pd.read_csv('data/QueryV2.csv')\n",
    "\n",
    "raw_data['FullPost'] = raw_data['Title'] + ' ' + raw_data['Body'][0][3:-5]"
   ]
  },
  {
   "cell_type": "code",
   "execution_count": null,
   "id": "0644d77d",
   "metadata": {},
   "outputs": [],
   "source": [
    "raw_data.head()"
   ]
  },
  {
   "cell_type": "code",
   "execution_count": null,
   "id": "0a588b35",
   "metadata": {},
   "outputs": [],
   "source": [
    "data['Tags'][0]"
   ]
  },
  {
   "cell_type": "code",
   "execution_count": null,
   "id": "8f4b4126",
   "metadata": {},
   "outputs": [],
   "source": [
    "raw_data['FullPost'] = raw_data['Title'] + ' ' + raw_data['Body'][0][3:-5]"
   ]
  },
  {
   "cell_type": "code",
   "execution_count": null,
   "id": "cc095691",
   "metadata": {},
   "outputs": [],
   "source": [
    "raw_X = raw_data['FullPost'] .tolist()\n",
    "\n",
    "raw_embeddings = model.encode(raw_X)"
   ]
  },
  {
   "cell_type": "code",
   "execution_count": null,
   "id": "821a439c",
   "metadata": {},
   "outputs": [],
   "source": [
    "raw_cosine_scores = util.cos_sim(raw_embeddings, word_embeddings)"
   ]
  },
  {
   "cell_type": "code",
   "execution_count": null,
   "id": "8d9c021b",
   "metadata": {},
   "outputs": [],
   "source": [
    "for i in range(10):\n",
    "    print('POST :')\n",
    "    print(' ')\n",
    "    print(raw_X[i])\n",
    "    print(' ')\n",
    "    print('SUGGESTED TAGS :')\n",
    "    print(' ')\n",
    "    \n",
    "    best_tags = zip([int(e) for e in raw_cosine_scores[i].sort(descending=True)[1][0:5]],\n",
    "          [float(e) for e in raw_cosine_scores[i].sort(descending=True)[0][0:5]])\n",
    "    \n",
    "    for j, k in best_tags:\n",
    "        print(top_words[j], k)\n",
    "    \n",
    "    #print(sample_words[int(cosine_scores[i].argmax())], float(cosine_scores[i].max()))\n",
    "    print(' ')\n",
    "    \n",
    "    print('ORIGINAL TAGS :')\n",
    "    print(' ')\n",
    "    print(data['Tags'][i])\n",
    "    \n",
    "    print('\"\"\"\"\"\"\"\"\"\"\"\"\"\"\"\"\"\"\"\"')"
   ]
  },
  {
   "cell_type": "code",
   "execution_count": null,
   "id": "471e0e3a",
   "metadata": {},
   "outputs": [],
   "source": []
  },
  {
   "cell_type": "code",
   "execution_count": null,
   "id": "0432355d",
   "metadata": {},
   "outputs": [],
   "source": []
  },
  {
   "cell_type": "code",
   "execution_count": null,
   "id": "dd67adfa",
   "metadata": {},
   "outputs": [],
   "source": []
  },
  {
   "cell_type": "code",
   "execution_count": null,
   "id": "62ed1bb5",
   "metadata": {},
   "outputs": [],
   "source": []
  },
  {
   "cell_type": "code",
   "execution_count": null,
   "id": "dc37436c",
   "metadata": {},
   "outputs": [],
   "source": [
    "### TO DO : TRY DIFFERENT MODELS ?"
   ]
  },
  {
   "cell_type": "code",
   "execution_count": null,
   "id": "a20f107c",
   "metadata": {},
   "outputs": [],
   "source": []
  },
  {
   "cell_type": "markdown",
   "id": "e4cbe4d4",
   "metadata": {},
   "source": [
    "### BERT"
   ]
  },
  {
   "cell_type": "code",
   "execution_count": null,
   "id": "7b6b30ae",
   "metadata": {},
   "outputs": [],
   "source": [
    "raw_data['Body'][0][3:-5]"
   ]
  },
  {
   "cell_type": "code",
   "execution_count": null,
   "id": "7dbe851a",
   "metadata": {},
   "outputs": [],
   "source": []
  },
  {
   "cell_type": "code",
   "execution_count": null,
   "id": "81f65f26",
   "metadata": {},
   "outputs": [],
   "source": []
  },
  {
   "cell_type": "code",
   "execution_count": null,
   "id": "c1597d96",
   "metadata": {},
   "outputs": [],
   "source": []
  },
  {
   "cell_type": "code",
   "execution_count": null,
   "id": "58dd2d24",
   "metadata": {},
   "outputs": [],
   "source": []
  },
  {
   "cell_type": "markdown",
   "id": "b0e665f5",
   "metadata": {},
   "source": [
    "### USE"
   ]
  },
  {
   "cell_type": "code",
   "execution_count": null,
   "id": "ceac1ce7",
   "metadata": {},
   "outputs": [],
   "source": []
  },
  {
   "cell_type": "code",
   "execution_count": null,
   "id": "fcbe9cc3",
   "metadata": {},
   "outputs": [],
   "source": []
  },
  {
   "cell_type": "code",
   "execution_count": null,
   "id": "525f82ea",
   "metadata": {},
   "outputs": [],
   "source": []
  },
  {
   "cell_type": "code",
   "execution_count": null,
   "id": "76fa6fc4",
   "metadata": {},
   "outputs": [],
   "source": []
  },
  {
   "cell_type": "code",
   "execution_count": null,
   "id": "175da50c",
   "metadata": {},
   "outputs": [],
   "source": []
  },
  {
   "cell_type": "code",
   "execution_count": null,
   "id": "5f83ac1e",
   "metadata": {},
   "outputs": [],
   "source": []
  },
  {
   "cell_type": "markdown",
   "id": "792bee20",
   "metadata": {},
   "source": [
    "### GLOVE"
   ]
  },
  {
   "cell_type": "code",
   "execution_count": null,
   "id": "4dbb881c",
   "metadata": {},
   "outputs": [],
   "source": []
  },
  {
   "cell_type": "code",
   "execution_count": null,
   "id": "81c0a947",
   "metadata": {},
   "outputs": [],
   "source": []
  },
  {
   "cell_type": "code",
   "execution_count": null,
   "id": "577db86c",
   "metadata": {},
   "outputs": [],
   "source": []
  },
  {
   "cell_type": "code",
   "execution_count": null,
   "id": "2dd087d3",
   "metadata": {},
   "outputs": [],
   "source": []
  },
  {
   "cell_type": "code",
   "execution_count": null,
   "id": "c0e9a424",
   "metadata": {},
   "outputs": [],
   "source": []
  },
  {
   "cell_type": "code",
   "execution_count": null,
   "id": "5b2c787b",
   "metadata": {},
   "outputs": [],
   "source": []
  },
  {
   "cell_type": "markdown",
   "id": "38f59c02",
   "metadata": {},
   "source": [
    "# Evaluation "
   ]
  },
  {
   "cell_type": "code",
   "execution_count": null,
   "id": "b3a9f9f5",
   "metadata": {},
   "outputs": [],
   "source": [
    "#Méthodes d'évaluation et métriques --> Score jaccard car multi_label"
   ]
  },
  {
   "cell_type": "code",
   "execution_count": null,
   "id": "3d39d0c5",
   "metadata": {},
   "outputs": [],
   "source": []
  },
  {
   "cell_type": "code",
   "execution_count": null,
   "id": "28b677da",
   "metadata": {},
   "outputs": [],
   "source": []
  },
  {
   "cell_type": "code",
   "execution_count": null,
   "id": "df7b75f2",
   "metadata": {},
   "outputs": [],
   "source": []
  },
  {
   "cell_type": "code",
   "execution_count": null,
   "id": "21d033b8",
   "metadata": {},
   "outputs": [],
   "source": []
  },
  {
   "cell_type": "code",
   "execution_count": null,
   "id": "24aaf5ff",
   "metadata": {},
   "outputs": [],
   "source": []
  },
  {
   "cell_type": "code",
   "execution_count": null,
   "id": "000dc20c",
   "metadata": {},
   "outputs": [],
   "source": []
  },
  {
   "cell_type": "code",
   "execution_count": null,
   "id": "e6315bce",
   "metadata": {},
   "outputs": [],
   "source": []
  },
  {
   "cell_type": "code",
   "execution_count": null,
   "id": "b492d0cd",
   "metadata": {},
   "outputs": [],
   "source": []
  },
  {
   "cell_type": "code",
   "execution_count": null,
   "id": "49f58fbf",
   "metadata": {},
   "outputs": [],
   "source": [
    "#Enregistrement de la pipeline de transformation et du modèle pour réemployer dans le code final à déployer"
   ]
  },
  {
   "cell_type": "code",
   "execution_count": null,
   "id": "309c1605",
   "metadata": {},
   "outputs": [],
   "source": []
  },
  {
   "cell_type": "code",
   "execution_count": null,
   "id": "806427aa",
   "metadata": {},
   "outputs": [],
   "source": []
  },
  {
   "cell_type": "code",
   "execution_count": null,
   "id": "f5a7753a",
   "metadata": {},
   "outputs": [],
   "source": []
  },
  {
   "cell_type": "markdown",
   "id": "67b9f457",
   "metadata": {},
   "source": [
    "# Démonstration avec API"
   ]
  },
  {
   "cell_type": "code",
   "execution_count": null,
   "id": "542b098d",
   "metadata": {},
   "outputs": [],
   "source": []
  },
  {
   "cell_type": "code",
   "execution_count": null,
   "id": "d76ffe46",
   "metadata": {},
   "outputs": [],
   "source": [
    "#Stream lite ou Gradio"
   ]
  },
  {
   "cell_type": "code",
   "execution_count": null,
   "id": "9ad80702",
   "metadata": {},
   "outputs": [],
   "source": []
  }
 ],
 "metadata": {
  "kernelspec": {
   "display_name": "Python 3 (ipykernel)",
   "language": "python",
   "name": "python3"
  },
  "language_info": {
   "codemirror_mode": {
    "name": "ipython",
    "version": 3
   },
   "file_extension": ".py",
   "mimetype": "text/x-python",
   "name": "python",
   "nbconvert_exporter": "python",
   "pygments_lexer": "ipython3",
   "version": "3.8.8"
  }
 },
 "nbformat": 4,
 "nbformat_minor": 5
}
