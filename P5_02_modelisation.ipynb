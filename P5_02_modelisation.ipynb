{
 "cells": [
  {
   "cell_type": "markdown",
   "id": "ca30657b",
   "metadata": {},
   "source": [
    "# Import des librairies et des données nettoyées"
   ]
  },
  {
   "cell_type": "code",
   "execution_count": 1,
   "id": "8377479d",
   "metadata": {},
   "outputs": [],
   "source": [
    "import math\n",
    "import pandas as pd\n",
    "import numpy as np\n",
    "import matplotlib.pyplot as plt\n",
    "import seaborn as sns\n",
    "from wordcloud import WordCloud\n",
    "import pickle\n",
    "from sklearn.feature_extraction.text import CountVectorizer, TfidfVectorizer\n",
    "from sklearn.decomposition import LatentDirichletAllocation"
   ]
  },
  {
   "cell_type": "code",
   "execution_count": 2,
   "id": "183ca6aa",
   "metadata": {},
   "outputs": [],
   "source": [
    "data = pd.read_csv('clean_data.csv', index_col=[0])"
   ]
  },
  {
   "cell_type": "code",
   "execution_count": 3,
   "id": "322848c8",
   "metadata": {},
   "outputs": [
    {
     "data": {
      "text/html": [
       "<div>\n",
       "<style scoped>\n",
       "    .dataframe tbody tr th:only-of-type {\n",
       "        vertical-align: middle;\n",
       "    }\n",
       "\n",
       "    .dataframe tbody tr th {\n",
       "        vertical-align: top;\n",
       "    }\n",
       "\n",
       "    .dataframe thead th {\n",
       "        text-align: right;\n",
       "    }\n",
       "</style>\n",
       "<table border=\"1\" class=\"dataframe\">\n",
       "  <thead>\n",
       "    <tr style=\"text-align: right;\">\n",
       "      <th></th>\n",
       "      <th>Title</th>\n",
       "      <th>Body</th>\n",
       "      <th>Tags</th>\n",
       "      <th>Id</th>\n",
       "      <th>Score</th>\n",
       "      <th>ViewCount</th>\n",
       "      <th>FavoriteCount</th>\n",
       "      <th>AnswerCount</th>\n",
       "      <th>Code</th>\n",
       "      <th>TitleLength</th>\n",
       "      <th>FirstTag</th>\n",
       "      <th>FullPost</th>\n",
       "    </tr>\n",
       "  </thead>\n",
       "  <tbody>\n",
       "    <tr>\n",
       "      <th>0</th>\n",
       "      <td>directory listing</td>\n",
       "      <td>scan directory folder file need cross platform</td>\n",
       "      <td>c file directory cross-platform common-tasks</td>\n",
       "      <td>12489</td>\n",
       "      <td>65</td>\n",
       "      <td>135968</td>\n",
       "      <td>21</td>\n",
       "      <td>9</td>\n",
       "      <td>NaN</td>\n",
       "      <td>2</td>\n",
       "      <td>c</td>\n",
       "      <td>directory listing scan directory folder file n...</td>\n",
       "    </tr>\n",
       "    <tr>\n",
       "      <th>1</th>\n",
       "      <td>return datatables wcf dotnet</td>\n",
       "      <td>wcf service want return datatable know highly ...</td>\n",
       "      <td>c# .net wcf web-services datatable</td>\n",
       "      <td>12702</td>\n",
       "      <td>51</td>\n",
       "      <td>56176</td>\n",
       "      <td>12</td>\n",
       "      <td>8</td>\n",
       "      <td>datacontract  public datatable gettbl        ...</td>\n",
       "      <td>4</td>\n",
       "      <td>c#</td>\n",
       "      <td>return datatables wcf dotnet wcf service want ...</td>\n",
       "    </tr>\n",
       "    <tr>\n",
       "      <th>2</th>\n",
       "      <td>difference struct class dotnet</td>\n",
       "      <td>difference struct class dotnet</td>\n",
       "      <td>.net class struct value-type reference-type</td>\n",
       "      <td>13049</td>\n",
       "      <td>830</td>\n",
       "      <td>453890</td>\n",
       "      <td>296</td>\n",
       "      <td>19</td>\n",
       "      <td>NaN</td>\n",
       "      <td>4</td>\n",
       "      <td>.net</td>\n",
       "      <td>difference struct class dotnet difference stru...</td>\n",
       "    </tr>\n",
       "    <tr>\n",
       "      <th>3</th>\n",
       "      <td>mysqli pdo pro</td>\n",
       "      <td>place split use mysqli pdo stuff prepared stat...</td>\n",
       "      <td>php mysql pdo mysqli database-abstraction</td>\n",
       "      <td>13569</td>\n",
       "      <td>342</td>\n",
       "      <td>143841</td>\n",
       "      <td>284</td>\n",
       "      <td>13</td>\n",
       "      <td>NaN</td>\n",
       "      <td>3</td>\n",
       "      <td>php</td>\n",
       "      <td>mysqli pdo pro place split use mysqli pdo stuf...</td>\n",
       "    </tr>\n",
       "    <tr>\n",
       "      <th>4</th>\n",
       "      <td>scroll overflow divs javascript</td>\n",
       "      <td>div use overflow auto content inside div resiz...</td>\n",
       "      <td>javascript jquery ajax html scroll</td>\n",
       "      <td>13362</td>\n",
       "      <td>49</td>\n",
       "      <td>67437</td>\n",
       "      <td>10</td>\n",
       "      <td>6</td>\n",
       "      <td>thediv   scrolltop       thediv   scrollhe...</td>\n",
       "      <td>4</td>\n",
       "      <td>javascript</td>\n",
       "      <td>scroll overflow divs javascript div use overfl...</td>\n",
       "    </tr>\n",
       "  </tbody>\n",
       "</table>\n",
       "</div>"
      ],
      "text/plain": [
       "                             Title  \\\n",
       "0                directory listing   \n",
       "1     return datatables wcf dotnet   \n",
       "2   difference struct class dotnet   \n",
       "3                   mysqli pdo pro   \n",
       "4  scroll overflow divs javascript   \n",
       "\n",
       "                                                Body  \\\n",
       "0     scan directory folder file need cross platform   \n",
       "1  wcf service want return datatable know highly ...   \n",
       "2                     difference struct class dotnet   \n",
       "3  place split use mysqli pdo stuff prepared stat...   \n",
       "4  div use overflow auto content inside div resiz...   \n",
       "\n",
       "                                            Tags     Id  Score  ViewCount  \\\n",
       "0  c file directory cross-platform common-tasks   12489     65     135968   \n",
       "1            c# .net wcf web-services datatable   12702     51      56176   \n",
       "2   .net class struct value-type reference-type   13049    830     453890   \n",
       "3     php mysql pdo mysqli database-abstraction   13569    342     143841   \n",
       "4            javascript jquery ajax html scroll   13362     49      67437   \n",
       "\n",
       "   FavoriteCount  AnswerCount  \\\n",
       "0             21            9   \n",
       "1             12            8   \n",
       "2            296           19   \n",
       "3            284           13   \n",
       "4             10            6   \n",
       "\n",
       "                                                Code  TitleLength    FirstTag  \\\n",
       "0                                                NaN            2           c   \n",
       "1   datacontract  public datatable gettbl        ...            4          c#   \n",
       "2                                                NaN            4        .net   \n",
       "3                                                NaN            3         php   \n",
       "4      thediv   scrolltop       thediv   scrollhe...            4  javascript   \n",
       "\n",
       "                                            FullPost  \n",
       "0  directory listing scan directory folder file n...  \n",
       "1  return datatables wcf dotnet wcf service want ...  \n",
       "2  difference struct class dotnet difference stru...  \n",
       "3  mysqli pdo pro place split use mysqli pdo stuf...  \n",
       "4  scroll overflow divs javascript div use overfl...  "
      ]
     },
     "execution_count": 3,
     "metadata": {},
     "output_type": "execute_result"
    }
   ],
   "source": [
    "data.head()"
   ]
  },
  {
   "cell_type": "code",
   "execution_count": 4,
   "id": "d7e6fda9",
   "metadata": {},
   "outputs": [],
   "source": [
    "data.drop(['FullPost', 'FirstTag', 'TitleLength'], axis=1, inplace=True)"
   ]
  },
  {
   "cell_type": "code",
   "execution_count": 5,
   "id": "aeb14b40",
   "metadata": {},
   "outputs": [],
   "source": [
    "def replace_nan_with_empty_string(text):\n",
    "    if type(text) != str:\n",
    "        if math.isnan(text):\n",
    "            return ' '\n",
    "    else:\n",
    "        return text"
   ]
  },
  {
   "cell_type": "code",
   "execution_count": 6,
   "id": "8485cbc5",
   "metadata": {},
   "outputs": [],
   "source": [
    "data['Title'] = data['Title'].apply(replace_nan_with_empty_string)\n",
    "data['Body'] = data['Body'].apply(replace_nan_with_empty_string)\n",
    "data['Code'] = data['Code'].apply(replace_nan_with_empty_string)"
   ]
  },
  {
   "cell_type": "code",
   "execution_count": 7,
   "id": "2cc572d2",
   "metadata": {},
   "outputs": [],
   "source": [
    "data['FullPost'] = data['Title'] + data['Body'] + data['Code']"
   ]
  },
  {
   "cell_type": "code",
   "execution_count": 8,
   "id": "94bd4247",
   "metadata": {},
   "outputs": [
    {
     "data": {
      "text/html": [
       "<div>\n",
       "<style scoped>\n",
       "    .dataframe tbody tr th:only-of-type {\n",
       "        vertical-align: middle;\n",
       "    }\n",
       "\n",
       "    .dataframe tbody tr th {\n",
       "        vertical-align: top;\n",
       "    }\n",
       "\n",
       "    .dataframe thead th {\n",
       "        text-align: right;\n",
       "    }\n",
       "</style>\n",
       "<table border=\"1\" class=\"dataframe\">\n",
       "  <thead>\n",
       "    <tr style=\"text-align: right;\">\n",
       "      <th></th>\n",
       "      <th>Title</th>\n",
       "      <th>Body</th>\n",
       "      <th>Tags</th>\n",
       "      <th>Id</th>\n",
       "      <th>Score</th>\n",
       "      <th>ViewCount</th>\n",
       "      <th>FavoriteCount</th>\n",
       "      <th>AnswerCount</th>\n",
       "      <th>Code</th>\n",
       "      <th>FullPost</th>\n",
       "    </tr>\n",
       "  </thead>\n",
       "  <tbody>\n",
       "    <tr>\n",
       "      <th>0</th>\n",
       "      <td>directory listing</td>\n",
       "      <td>scan directory folder file need cross platform</td>\n",
       "      <td>c file directory cross-platform common-tasks</td>\n",
       "      <td>12489</td>\n",
       "      <td>65</td>\n",
       "      <td>135968</td>\n",
       "      <td>21</td>\n",
       "      <td>9</td>\n",
       "      <td></td>\n",
       "      <td>directory listingscan directory folder file ne...</td>\n",
       "    </tr>\n",
       "    <tr>\n",
       "      <th>1</th>\n",
       "      <td>return datatables wcf dotnet</td>\n",
       "      <td>wcf service want return datatable know highly ...</td>\n",
       "      <td>c# .net wcf web-services datatable</td>\n",
       "      <td>12702</td>\n",
       "      <td>51</td>\n",
       "      <td>56176</td>\n",
       "      <td>12</td>\n",
       "      <td>8</td>\n",
       "      <td>datacontract  public datatable gettbl        ...</td>\n",
       "      <td>return datatables wcf dotnetwcf service want r...</td>\n",
       "    </tr>\n",
       "    <tr>\n",
       "      <th>2</th>\n",
       "      <td>difference struct class dotnet</td>\n",
       "      <td>difference struct class dotnet</td>\n",
       "      <td>.net class struct value-type reference-type</td>\n",
       "      <td>13049</td>\n",
       "      <td>830</td>\n",
       "      <td>453890</td>\n",
       "      <td>296</td>\n",
       "      <td>19</td>\n",
       "      <td></td>\n",
       "      <td>difference struct class dotnetdifference struc...</td>\n",
       "    </tr>\n",
       "    <tr>\n",
       "      <th>3</th>\n",
       "      <td>mysqli pdo pro</td>\n",
       "      <td>place split use mysqli pdo stuff prepared stat...</td>\n",
       "      <td>php mysql pdo mysqli database-abstraction</td>\n",
       "      <td>13569</td>\n",
       "      <td>342</td>\n",
       "      <td>143841</td>\n",
       "      <td>284</td>\n",
       "      <td>13</td>\n",
       "      <td></td>\n",
       "      <td>mysqli pdo proplace split use mysqli pdo stuff...</td>\n",
       "    </tr>\n",
       "    <tr>\n",
       "      <th>4</th>\n",
       "      <td>scroll overflow divs javascript</td>\n",
       "      <td>div use overflow auto content inside div resiz...</td>\n",
       "      <td>javascript jquery ajax html scroll</td>\n",
       "      <td>13362</td>\n",
       "      <td>49</td>\n",
       "      <td>67437</td>\n",
       "      <td>10</td>\n",
       "      <td>6</td>\n",
       "      <td>thediv   scrolltop       thediv   scrollhe...</td>\n",
       "      <td>scroll overflow divs javascriptdiv use overflo...</td>\n",
       "    </tr>\n",
       "  </tbody>\n",
       "</table>\n",
       "</div>"
      ],
      "text/plain": [
       "                             Title  \\\n",
       "0                directory listing   \n",
       "1     return datatables wcf dotnet   \n",
       "2   difference struct class dotnet   \n",
       "3                   mysqli pdo pro   \n",
       "4  scroll overflow divs javascript   \n",
       "\n",
       "                                                Body  \\\n",
       "0     scan directory folder file need cross platform   \n",
       "1  wcf service want return datatable know highly ...   \n",
       "2                     difference struct class dotnet   \n",
       "3  place split use mysqli pdo stuff prepared stat...   \n",
       "4  div use overflow auto content inside div resiz...   \n",
       "\n",
       "                                            Tags     Id  Score  ViewCount  \\\n",
       "0  c file directory cross-platform common-tasks   12489     65     135968   \n",
       "1            c# .net wcf web-services datatable   12702     51      56176   \n",
       "2   .net class struct value-type reference-type   13049    830     453890   \n",
       "3     php mysql pdo mysqli database-abstraction   13569    342     143841   \n",
       "4            javascript jquery ajax html scroll   13362     49      67437   \n",
       "\n",
       "   FavoriteCount  AnswerCount  \\\n",
       "0             21            9   \n",
       "1             12            8   \n",
       "2            296           19   \n",
       "3            284           13   \n",
       "4             10            6   \n",
       "\n",
       "                                                Code  \\\n",
       "0                                                      \n",
       "1   datacontract  public datatable gettbl        ...   \n",
       "2                                                      \n",
       "3                                                      \n",
       "4      thediv   scrolltop       thediv   scrollhe...   \n",
       "\n",
       "                                            FullPost  \n",
       "0  directory listingscan directory folder file ne...  \n",
       "1  return datatables wcf dotnetwcf service want r...  \n",
       "2  difference struct class dotnetdifference struc...  \n",
       "3  mysqli pdo proplace split use mysqli pdo stuff...  \n",
       "4  scroll overflow divs javascriptdiv use overflo...  "
      ]
     },
     "execution_count": 8,
     "metadata": {},
     "output_type": "execute_result"
    }
   ],
   "source": [
    "data.head()"
   ]
  },
  {
   "cell_type": "markdown",
   "id": "7b4b0de6",
   "metadata": {},
   "source": [
    "# Approche non supervisée : Latent Dirichlet Allocation"
   ]
  },
  {
   "cell_type": "code",
   "execution_count": null,
   "id": "2101b490",
   "metadata": {},
   "outputs": [],
   "source": []
  },
  {
   "cell_type": "code",
   "execution_count": 10,
   "id": "c69fbfdd",
   "metadata": {},
   "outputs": [
    {
     "name": "stderr",
     "output_type": "stream",
     "text": [
      "/Users/leodray/opt/anaconda3/lib/python3.8/site-packages/sklearn/utils/deprecation.py:87: FutureWarning: Function get_feature_names is deprecated; get_feature_names is deprecated in 1.0 and will be removed in 1.2. Please use get_feature_names_out instead.\n",
      "  warnings.warn(msg, category=FutureWarning)\n"
     ]
    }
   ],
   "source": [
    "vectorizer = CountVectorizer()\n",
    "vectorized_text = vectorizer.fit_transform(data['FullPost'])\n",
    "title_feature_names = vectorizer.get_feature_names()"
   ]
  },
  {
   "cell_type": "code",
   "execution_count": null,
   "id": "ac625b85",
   "metadata": {},
   "outputs": [],
   "source": [
    "lda_model = LatentDirichletAllocation(n_components=25,\n",
    "                                      max_iter=5,\n",
    "                                      learning_method='online',\n",
    "                                      learning_offset=50.,\n",
    "                                      n_jobs=4,\n",
    "                                      random_state=0).fit(vectorized_text)"
   ]
  },
  {
   "cell_type": "code",
   "execution_count": null,
   "id": "704b0962",
   "metadata": {},
   "outputs": [],
   "source": [
    "wordcloud = WordCloud(mode=\"RGBA\", background_color=None, max_words=50)\n",
    "fig = plt.figure(figsize=(30, 30))\n",
    "fig.subplots_adjust(hspace=0.01, wspace=0.1)\n",
    "for k in range(0, 25):    \n",
    "    freq={}\n",
    "    for i,j in enumerate(lda_title.components_[k]):\n",
    "        freq[title_feature_names[i]]=j\n",
    "\n",
    "    wordcloud.generate_from_frequencies(freq)\n",
    "    sp=331+k\n",
    "    plt.subplot(sp)\n",
    "    plt.imshow(wordcloud, interpolation=\"bilinear\")\n",
    "    plt.axis(\"off\")"
   ]
  },
  {
   "cell_type": "code",
   "execution_count": null,
   "id": "ea8f3b38",
   "metadata": {},
   "outputs": [],
   "source": []
  },
  {
   "cell_type": "code",
   "execution_count": null,
   "id": "77e7d803",
   "metadata": {},
   "outputs": [],
   "source": []
  },
  {
   "cell_type": "code",
   "execution_count": null,
   "id": "b01376e4",
   "metadata": {},
   "outputs": [],
   "source": []
  },
  {
   "cell_type": "code",
   "execution_count": null,
   "id": "ff7ff619",
   "metadata": {},
   "outputs": [],
   "source": [
    "#CountVectorizer ?"
   ]
  },
  {
   "cell_type": "code",
   "execution_count": null,
   "id": "bb88487e",
   "metadata": {},
   "outputs": [],
   "source": [
    "title_vectorizer= CountVectorizer()\n",
    "title_CV=title_vectorizer.fit_transform(data['Title'])\n",
    "title_feature_names=title_vectorizer.get_feature_names()"
   ]
  },
  {
   "cell_type": "code",
   "execution_count": null,
   "id": "3768e9d7",
   "metadata": {},
   "outputs": [],
   "source": [
    "no_dummytags = 100\n",
    "\n",
    "lda_title = LatentDirichletAllocation(n_components=no_dummytags, max_iter=5, learning_method='online', learning_offset=50., n_jobs=4,random_state=0).fit(title_CV)"
   ]
  },
  {
   "cell_type": "code",
   "execution_count": null,
   "id": "d6c0bb80",
   "metadata": {},
   "outputs": [],
   "source": [
    "wordcloud = WordCloud(mode=\"RGBA\", background_color=None, max_words=50)\n",
    "fig = plt.figure(figsize=(30, 30))\n",
    "fig.subplots_adjust(hspace=0.01, wspace=0.1)\n",
    "for k,topic in enumerate([6,10,21,23,24,28,39,51,58]):    \n",
    "    freq={}\n",
    "    for i,j in enumerate(lda_title.components_[topic]):\n",
    "        freq[title_feature_names[i]]=j\n",
    "\n",
    "    wordcloud.generate_from_frequencies(freq)\n",
    "    sp=331+k\n",
    "    plt.subplot(sp)\n",
    "    plt.imshow(wordcloud, interpolation=\"bilinear\")\n",
    "    plt.axis(\"off\")"
   ]
  },
  {
   "cell_type": "code",
   "execution_count": null,
   "id": "4aab4e6d",
   "metadata": {},
   "outputs": [],
   "source": [
    "# Sort the values in the TFIDF matrix in descending order\n",
    "def sort_coo(coo_matrix):\n",
    "    tuples = zip(coo_matrix.col, coo_matrix.data)\n",
    "    return sorted(tuples, key=lambda x: (x[1], x[0]), reverse=True)\n",
    "  \n",
    "# Extract the top n words from each topic  \n",
    " \n",
    "def extract_topn_from_vector(feature_names, sorted_items, topn=10):\n",
    "    \"\"\"get the feature names and tf-idf score of top n items\"\"\"\n",
    "    \n",
    "    #use only topn items from vector\n",
    "    sorted_items = sorted_items[:topn]\n",
    " \n",
    "    score_vals = []\n",
    "    feature_vals = []\n",
    "    \n",
    "    # word index and corresponding tf-idf score\n",
    "    for idx, score in sorted_items:\n",
    "        \n",
    "        #keep track of feature name and its corresponding score\n",
    "        score_vals.append(round(score, 3))\n",
    "        feature_vals.append(feature_names[idx])\n",
    " \n",
    "    #create a tuples of feature,score\n",
    "    #results = zip(feature_vals,score_vals)\n",
    "    results= {}\n",
    "    for idx in range(len(feature_vals)):\n",
    "        results[feature_vals[idx]]=score_vals[idx]\n",
    "    return results\n",
    "\n",
    "# Build a dictionary of topics' main features\n",
    "        \n",
    "def list_topics(model, feature_names, no_top_words):\n",
    "    topic_dic={}\n",
    "    for idx, topic in enumerate(model.components_):\n",
    "        topic_dic[idx]=\" \".join([feature_names[i] for i in topic.argsort()[:-no_top_words - 1:-1]])\n",
    "    return topic_dic"
   ]
  },
  {
   "cell_type": "code",
   "execution_count": null,
   "id": "6b505c39",
   "metadata": {},
   "outputs": [],
   "source": [
    "title_vectorizer= TfidfVectorizer(sublinear_tf=True, min_df=0.001)\n",
    "\n",
    "title_tfidf= title_vectorizer.fit_transform(data['Title'])\n",
    "\n",
    "feature_names=title_vectorizer.get_feature_names()\n",
    "\n",
    "title_topics= list_topics(lda_title, title_feature_names, 150)\n",
    "\n",
    "title_tags=set()\n",
    "\n",
    "for i in range(len(title_topics)):\n",
    "  \n",
    "    tf_idf_vector=title_vectorizer.transform([title_topics[i]])\n",
    "\n",
    "    sorted_items=sort_coo(tf_idf_vector.tocoo())\n",
    "\n",
    "    title_tags=title_tags.union(set(k for k in extract_topn_from_vector(feature_names,sorted_items,20)))\n",
    "\n",
    "tag_vectorizer= CountVectorizer()\n",
    "tag_CV=tag_vectorizer.fit_transform(data['Tags'])\n",
    "tag_names=tag_vectorizer.get_feature_names()\n",
    "    \n",
    "    \n",
    "print(\"\\nNumber of Extracted Tags:\")\n",
    "print(len(title_tags))\n",
    "\n",
    "print(\"\\nTags found in both the extracted tags and the tag column of the dataset:\")\n",
    "\n",
    "cross_tags= [tag for tag in tag_names if tag in title_tags]\n",
    "print(len(cross_tags))\n",
    "print(sorted(cross_tags))"
   ]
  },
  {
   "cell_type": "code",
   "execution_count": null,
   "id": "49e89fb9",
   "metadata": {},
   "outputs": [],
   "source": []
  },
  {
   "cell_type": "code",
   "execution_count": null,
   "id": "2d670a4c",
   "metadata": {},
   "outputs": [],
   "source": []
  },
  {
   "cell_type": "code",
   "execution_count": null,
   "id": "e9f22127",
   "metadata": {},
   "outputs": [],
   "source": []
  },
  {
   "cell_type": "code",
   "execution_count": null,
   "id": "1f184698",
   "metadata": {},
   "outputs": [],
   "source": []
  },
  {
   "cell_type": "markdown",
   "id": "48f67535",
   "metadata": {},
   "source": [
    "# Approche supervisée"
   ]
  },
  {
   "cell_type": "markdown",
   "id": "0f1ba88a",
   "metadata": {},
   "source": [
    "# Preprocessing"
   ]
  },
  {
   "cell_type": "code",
   "execution_count": null,
   "id": "b39ab20d",
   "metadata": {},
   "outputs": [],
   "source": []
  },
  {
   "cell_type": "code",
   "execution_count": null,
   "id": "6c53d00c",
   "metadata": {},
   "outputs": [],
   "source": []
  },
  {
   "cell_type": "code",
   "execution_count": null,
   "id": "d93e4fa9",
   "metadata": {},
   "outputs": [],
   "source": [
    "#Utilisation CountVectorizer ?"
   ]
  },
  {
   "cell_type": "code",
   "execution_count": null,
   "id": "112fda3e",
   "metadata": {},
   "outputs": [],
   "source": []
  },
  {
   "cell_type": "code",
   "execution_count": null,
   "id": "c9d843ce",
   "metadata": {},
   "outputs": [],
   "source": [
    "tag_vectorizer= CountVectorizer()\n",
    "tag_CV=tag_vectorizer.fit_transform(data['Tags'])\n",
    "tag_names=tag_vectorizer.get_feature_names()\n",
    "\n",
    "# Sum up the counts of each vocabulary word\n",
    "tag_CV=tag_CV.toarray()\n",
    "dist = np.sum(tag_CV, axis=0)\n",
    "sorted_counts=dist.argsort()\n",
    "tags={}\n",
    "for i in sorted_counts:\n",
    "  tags[tag_names[i]]=dist[i]\n",
    "tags_df=pd.DataFrame(columns=['Tag', 'Count'])\n",
    "tags_df['Tag']=list(tags.keys())\n",
    "tags_df['Count']=list(tags.values())\n",
    "tags_df.sort_values(by=['Count'],ascending=False,inplace=True)\n",
    "tags_df.shape\n",
    "\n",
    "tags_df[0:20].plot.bar(x='Tag',y='Count',rot=60,figsize=(15,10))\n",
    "print(\"\\n------------------Top 20 tags:--------------------------\")"
   ]
  },
  {
   "cell_type": "code",
   "execution_count": null,
   "id": "6015282a",
   "metadata": {},
   "outputs": [],
   "source": [
    "def wrong_label_counter(y, y_pred):\n",
    "  try:\n",
    "    y=y.values\n",
    "  except:\n",
    "    pass\n",
    "  diff = y - y_pred\n",
    "  diff[diff==1]=0\n",
    "  diff=np.abs(diff)\n",
    "  diff=np.sum(diff,axis=1)\n",
    "  size=y.shape[0]*y.shape[1]-np.count_nonzero(y)\n",
    "  return 100*np.sum(diff)/size\n",
    "\n",
    "def missed_label_counter(y, y_pred):\n",
    "  try:\n",
    "    y=y.values\n",
    "  except:\n",
    "    pass\n",
    "  diff = y - y_pred\n",
    "  diff[diff==-1]=0\n",
    "  diff=np.abs(diff)\n",
    "  diff=np.sum(diff,axis=1)\n",
    "  size=np.count_nonzero(y)\n",
    "  return 100*np.sum(diff)/size"
   ]
  },
  {
   "cell_type": "code",
   "execution_count": null,
   "id": "374850d7",
   "metadata": {},
   "outputs": [],
   "source": []
  },
  {
   "cell_type": "code",
   "execution_count": null,
   "id": "b2d5376e",
   "metadata": {},
   "outputs": [],
   "source": []
  },
  {
   "cell_type": "code",
   "execution_count": null,
   "id": "3e261669",
   "metadata": {},
   "outputs": [],
   "source": []
  },
  {
   "cell_type": "code",
   "execution_count": null,
   "id": "9a9bccdc",
   "metadata": {},
   "outputs": [],
   "source": []
  },
  {
   "cell_type": "code",
   "execution_count": null,
   "id": "abb17416",
   "metadata": {},
   "outputs": [],
   "source": [
    "#Utiliser MLB plutôt que get_dummies (inverse_transformer)"
   ]
  },
  {
   "cell_type": "code",
   "execution_count": null,
   "id": "2a7c94bd",
   "metadata": {},
   "outputs": [],
   "source": [
    "tag_set=set(tags_df.Tag[tags_df['Count']>200])\n",
    "\n",
    "def select_tags(text):\n",
    "    text=text.split()\n",
    "    \n",
    "    res = [t for t in text if t in tag_set]\n",
    "    \n",
    "    if res == []:\n",
    "        return text\n",
    "    else:\n",
    "        return res\n",
    "\n",
    "data['main_tags']=data['Tags'].copy(deep=True)\n",
    "\n",
    "data['main_tags']=data['main_tags'].apply(select_tags)\n",
    "\n",
    "data['main_tags']=data['main_tags'].apply(body_join)"
   ]
  },
  {
   "cell_type": "code",
   "execution_count": null,
   "id": "9501bc23",
   "metadata": {},
   "outputs": [],
   "source": [
    "data['main_tags']=data['main_tags'].apply(lambda x: x.split(' '))"
   ]
  },
  {
   "cell_type": "code",
   "execution_count": null,
   "id": "c13841cf",
   "metadata": {},
   "outputs": [],
   "source": [
    "from sklearn.preprocessing import MultiLabelBinarizer\n",
    "\n",
    "mlb = MultiLabelBinarizer()\n",
    "\n",
    "Y = mlb.fit_transform(data['main_tags'])"
   ]
  },
  {
   "cell_type": "code",
   "execution_count": null,
   "id": "21b96a56",
   "metadata": {},
   "outputs": [],
   "source": []
  },
  {
   "cell_type": "code",
   "execution_count": null,
   "id": "021051c1",
   "metadata": {},
   "outputs": [],
   "source": []
  },
  {
   "cell_type": "code",
   "execution_count": null,
   "id": "cc40546c",
   "metadata": {},
   "outputs": [],
   "source": [
    "data.main_tags"
   ]
  },
  {
   "cell_type": "code",
   "execution_count": null,
   "id": "9ea04165",
   "metadata": {},
   "outputs": [],
   "source": []
  },
  {
   "cell_type": "code",
   "execution_count": null,
   "id": "ccb09b29",
   "metadata": {},
   "outputs": [],
   "source": []
  },
  {
   "cell_type": "code",
   "execution_count": null,
   "id": "c17b51eb",
   "metadata": {},
   "outputs": [],
   "source": [
    "from sklearn.model_selection import train_test_split\n",
    "\n",
    "data['full_text']=data['Title']+' '+data['Body']+' '+data['Code']\n",
    "\n",
    "X_train, X_test, y_train, y_test= train_test_split(data, Y,test_size=0.2)"
   ]
  },
  {
   "cell_type": "code",
   "execution_count": null,
   "id": "8f7c0b63",
   "metadata": {},
   "outputs": [],
   "source": [
    "X_train.drop(['Title', 'Body', 'Tags', 'Id', 'Score', 'ViewCount', 'FavoriteCount', 'AnswerCount', 'Code', 'main_tags'], axis=1, inplace=True)"
   ]
  },
  {
   "cell_type": "code",
   "execution_count": null,
   "id": "08ac400f",
   "metadata": {},
   "outputs": [],
   "source": [
    "X_train"
   ]
  },
  {
   "cell_type": "code",
   "execution_count": null,
   "id": "3ed2df97",
   "metadata": {},
   "outputs": [],
   "source": [
    "y_train"
   ]
  },
  {
   "cell_type": "code",
   "execution_count": null,
   "id": "b56113c3",
   "metadata": {},
   "outputs": [],
   "source": []
  },
  {
   "cell_type": "code",
   "execution_count": null,
   "id": "93ff9b39",
   "metadata": {},
   "outputs": [],
   "source": [
    "#multi-label binarizer sklearn (fit_transform)"
   ]
  },
  {
   "cell_type": "code",
   "execution_count": null,
   "id": "12811a3c",
   "metadata": {},
   "outputs": [],
   "source": [
    "X_train"
   ]
  },
  {
   "cell_type": "code",
   "execution_count": null,
   "id": "0eb41d9e",
   "metadata": {},
   "outputs": [],
   "source": [
    "X_train = X_train['full_text'].values"
   ]
  },
  {
   "cell_type": "code",
   "execution_count": null,
   "id": "451f1340",
   "metadata": {},
   "outputs": [],
   "source": [
    "from sklearn.feature_extraction.text import TfidfVectorizer\n",
    "\n",
    "vectorizer = TfidfVectorizer()"
   ]
  },
  {
   "cell_type": "code",
   "execution_count": null,
   "id": "7ac3ce4e",
   "metadata": {},
   "outputs": [],
   "source": [
    "X_train['full_text'] = vectorizer.fit_transform(X_train['full_text'])"
   ]
  },
  {
   "cell_type": "code",
   "execution_count": null,
   "id": "e5839ab9",
   "metadata": {},
   "outputs": [],
   "source": [
    "from lightgbm import LGBMClassifier"
   ]
  },
  {
   "cell_type": "code",
   "execution_count": null,
   "id": "4d4230b9",
   "metadata": {},
   "outputs": [],
   "source": [
    "X_train.shape"
   ]
  },
  {
   "cell_type": "code",
   "execution_count": null,
   "id": "daf812af",
   "metadata": {},
   "outputs": [],
   "source": [
    "y_train"
   ]
  },
  {
   "cell_type": "code",
   "execution_count": null,
   "id": "e7f39ad6",
   "metadata": {},
   "outputs": [],
   "source": []
  },
  {
   "cell_type": "code",
   "execution_count": null,
   "id": "444ddf97",
   "metadata": {},
   "outputs": [],
   "source": [
    "from sklearn.pipeline import Pipeline"
   ]
  },
  {
   "cell_type": "code",
   "execution_count": null,
   "id": "712b6d00",
   "metadata": {},
   "outputs": [],
   "source": [
    "from sklearn.multiclass import OneVsRestClassifier"
   ]
  },
  {
   "cell_type": "code",
   "execution_count": null,
   "id": "c0c95728",
   "metadata": {},
   "outputs": [],
   "source": [
    "LGBM_pipeline = Pipeline([\n",
    "                ('tfidf', TfidfVectorizer()),\n",
    "                ('lgbm', OneVsRestClassifier(LGBMClassifier(), n_jobs=1)),\n",
    "            ])"
   ]
  },
  {
   "cell_type": "code",
   "execution_count": null,
   "id": "65b5ee3c",
   "metadata": {},
   "outputs": [],
   "source": [
    "LGBM_pipeline = Pipeline([\n",
    "                ('tfidf', TfidfVectorizer()),\n",
    "                ('lgbm', OneVsRestClassifier(LGBMClassifier(), n_jobs=1)),\n",
    "            ])\n",
    "for category in categories:\n",
    "    print('... Processing {}'.format(category))\n",
    "    # train the model using X_dtm & y\n",
    "    SVC_pipeline.fit(X_train, train[category])\n",
    "    # compute the testing accuracy\n",
    "    prediction = SVC_pipeline.predict(X_test)\n",
    "    print('Test accuracy is {}'.format(accuracy_score(test[category], prediction)))"
   ]
  },
  {
   "cell_type": "code",
   "execution_count": null,
   "id": "2febe7f2",
   "metadata": {},
   "outputs": [],
   "source": [
    "labels = mlb.inverse_transform(y_train)"
   ]
  },
  {
   "cell_type": "code",
   "execution_count": null,
   "id": "9a3befe9",
   "metadata": {},
   "outputs": [],
   "source": [
    "l_labels = []\n",
    "for labels in labels:\n",
    "    for w in labels:\n",
    "        if w not in l_labels:\n",
    "            l_labels.append(w)\n",
    "        "
   ]
  },
  {
   "cell_type": "code",
   "execution_count": null,
   "id": "def8c75e",
   "metadata": {},
   "outputs": [],
   "source": []
  },
  {
   "cell_type": "code",
   "execution_count": null,
   "id": "09342151",
   "metadata": {},
   "outputs": [],
   "source": [
    "lgbm = OneVsRestClassifier(LGBMClassifier(), n_jobs=1)"
   ]
  },
  {
   "cell_type": "code",
   "execution_count": null,
   "id": "a254bff0",
   "metadata": {},
   "outputs": [],
   "source": [
    "for category in l_labels:\n",
    "    print('... Processing {}'.format(category))\n",
    "    # train the model using X_dtm & y\n",
    "    LGBM_pipeline.fit(X_train, train[category])\n",
    "    # compute the testing accuracy\n",
    "    prediction = LGBM_pipeline.predict(X_test)\n",
    "    print('Test accuracy is {}'.format(accuracy_score(test[category], prediction)))"
   ]
  },
  {
   "cell_type": "code",
   "execution_count": null,
   "id": "2b975f37",
   "metadata": {},
   "outputs": [],
   "source": []
  },
  {
   "cell_type": "code",
   "execution_count": null,
   "id": "b87a32af",
   "metadata": {},
   "outputs": [],
   "source": [
    "X_train = X_train.values"
   ]
  },
  {
   "cell_type": "code",
   "execution_count": null,
   "id": "7de3be37",
   "metadata": {},
   "outputs": [],
   "source": [
    "y_train"
   ]
  },
  {
   "cell_type": "code",
   "execution_count": null,
   "id": "68d6d223",
   "metadata": {},
   "outputs": [],
   "source": []
  },
  {
   "cell_type": "code",
   "execution_count": null,
   "id": "59ea9522",
   "metadata": {},
   "outputs": [],
   "source": []
  },
  {
   "cell_type": "code",
   "execution_count": null,
   "id": "b2128a6e",
   "metadata": {},
   "outputs": [],
   "source": []
  },
  {
   "cell_type": "code",
   "execution_count": null,
   "id": "539d40ab",
   "metadata": {},
   "outputs": [],
   "source": []
  },
  {
   "cell_type": "code",
   "execution_count": null,
   "id": "547cd302",
   "metadata": {},
   "outputs": [],
   "source": []
  },
  {
   "cell_type": "code",
   "execution_count": null,
   "id": "ceab5507",
   "metadata": {},
   "outputs": [],
   "source": [
    "#light GBM"
   ]
  },
  {
   "cell_type": "code",
   "execution_count": null,
   "id": "0fca4480",
   "metadata": {},
   "outputs": [],
   "source": [
    "X_test['full_text'] = vectorizer.transform(X_test['full_text'])"
   ]
  },
  {
   "cell_type": "code",
   "execution_count": null,
   "id": "098df3d5",
   "metadata": {},
   "outputs": [],
   "source": [
    "X_test.drop(['Title', 'Body', 'Tags', 'Id', 'Score', 'ViewCount', 'FavoriteCount', 'AnswerCount', 'Code', 'main_tags'], axis=1, inplace=True)"
   ]
  },
  {
   "cell_type": "code",
   "execution_count": null,
   "id": "b6706fe3",
   "metadata": {},
   "outputs": [],
   "source": [
    "X_test.head()"
   ]
  },
  {
   "cell_type": "code",
   "execution_count": null,
   "id": "0e47a3da",
   "metadata": {},
   "outputs": [],
   "source": [
    "#utiliser inverse_transform sur les prédictions"
   ]
  },
  {
   "cell_type": "markdown",
   "id": "429dbb49",
   "metadata": {},
   "source": [
    "# Bag of words"
   ]
  },
  {
   "cell_type": "code",
   "execution_count": null,
   "id": "bbf39ea6",
   "metadata": {},
   "outputs": [],
   "source": [
    "#TF IDF pour vectoriser data['Full_text'] et data['main_tags'] puis LightGBM/RFC"
   ]
  },
  {
   "cell_type": "code",
   "execution_count": null,
   "id": "b0b65a67",
   "metadata": {},
   "outputs": [],
   "source": [
    "# Word2VEC"
   ]
  },
  {
   "cell_type": "code",
   "execution_count": null,
   "id": "17d0e9e8",
   "metadata": {},
   "outputs": [],
   "source": []
  },
  {
   "cell_type": "code",
   "execution_count": null,
   "id": "60128aab",
   "metadata": {},
   "outputs": [],
   "source": []
  },
  {
   "cell_type": "code",
   "execution_count": null,
   "id": "8c91e0f5",
   "metadata": {},
   "outputs": [],
   "source": [
    "#1 versus Rest pour sélection du modèle supervisé"
   ]
  },
  {
   "cell_type": "code",
   "execution_count": null,
   "id": "9edf8b21",
   "metadata": {},
   "outputs": [],
   "source": []
  },
  {
   "cell_type": "markdown",
   "id": "d46fda4a",
   "metadata": {},
   "source": [
    "# Sentence embedding"
   ]
  },
  {
   "cell_type": "code",
   "execution_count": null,
   "id": "482a6ba6",
   "metadata": {},
   "outputs": [],
   "source": [
    "#sentence transformer library python"
   ]
  },
  {
   "cell_type": "code",
   "execution_count": null,
   "id": "71092c9d",
   "metadata": {},
   "outputs": [],
   "source": []
  },
  {
   "cell_type": "markdown",
   "id": "396803ce",
   "metadata": {},
   "source": [
    "### BERT"
   ]
  },
  {
   "cell_type": "code",
   "execution_count": null,
   "id": "0816bc59",
   "metadata": {},
   "outputs": [],
   "source": [
    "import tensorflow_hub as hub\n",
    "\n",
    "module_url = \"https://tfhub.dev/tensorflow/bert_en_uncased_L-12_H-768_A-12/1\"\n",
    "#module_url = \"https://tfhub.dev/tensorflow/bert_en_uncased_L-24_H-1024_A-16/1\"\n",
    "\n",
    "bert_layer = hub.KerasLayer(module_url, trainable=True)"
   ]
  },
  {
   "cell_type": "code",
   "execution_count": null,
   "id": "7b6b30ae",
   "metadata": {},
   "outputs": [],
   "source": []
  },
  {
   "cell_type": "code",
   "execution_count": null,
   "id": "7dbe851a",
   "metadata": {},
   "outputs": [],
   "source": []
  },
  {
   "cell_type": "code",
   "execution_count": null,
   "id": "81f65f26",
   "metadata": {},
   "outputs": [],
   "source": []
  },
  {
   "cell_type": "code",
   "execution_count": null,
   "id": "c1597d96",
   "metadata": {},
   "outputs": [],
   "source": []
  },
  {
   "cell_type": "code",
   "execution_count": null,
   "id": "58dd2d24",
   "metadata": {},
   "outputs": [],
   "source": []
  },
  {
   "cell_type": "markdown",
   "id": "d15e2f93",
   "metadata": {},
   "source": [
    "### USE"
   ]
  },
  {
   "cell_type": "code",
   "execution_count": null,
   "id": "ceac1ce7",
   "metadata": {},
   "outputs": [],
   "source": []
  },
  {
   "cell_type": "code",
   "execution_count": null,
   "id": "fcbe9cc3",
   "metadata": {},
   "outputs": [],
   "source": []
  },
  {
   "cell_type": "code",
   "execution_count": null,
   "id": "525f82ea",
   "metadata": {},
   "outputs": [],
   "source": []
  },
  {
   "cell_type": "code",
   "execution_count": null,
   "id": "76fa6fc4",
   "metadata": {},
   "outputs": [],
   "source": []
  },
  {
   "cell_type": "code",
   "execution_count": null,
   "id": "175da50c",
   "metadata": {},
   "outputs": [],
   "source": []
  },
  {
   "cell_type": "code",
   "execution_count": null,
   "id": "5f83ac1e",
   "metadata": {},
   "outputs": [],
   "source": []
  },
  {
   "cell_type": "markdown",
   "id": "2c7001e1",
   "metadata": {},
   "source": [
    "### GLOVE"
   ]
  },
  {
   "cell_type": "code",
   "execution_count": null,
   "id": "4dbb881c",
   "metadata": {},
   "outputs": [],
   "source": []
  },
  {
   "cell_type": "code",
   "execution_count": null,
   "id": "81c0a947",
   "metadata": {},
   "outputs": [],
   "source": []
  },
  {
   "cell_type": "code",
   "execution_count": null,
   "id": "577db86c",
   "metadata": {},
   "outputs": [],
   "source": []
  },
  {
   "cell_type": "code",
   "execution_count": null,
   "id": "2dd087d3",
   "metadata": {},
   "outputs": [],
   "source": []
  },
  {
   "cell_type": "code",
   "execution_count": null,
   "id": "c0e9a424",
   "metadata": {},
   "outputs": [],
   "source": []
  },
  {
   "cell_type": "code",
   "execution_count": null,
   "id": "5b2c787b",
   "metadata": {},
   "outputs": [],
   "source": []
  },
  {
   "cell_type": "markdown",
   "id": "38f59c02",
   "metadata": {},
   "source": [
    "# Evaluation "
   ]
  },
  {
   "cell_type": "code",
   "execution_count": null,
   "id": "b3a9f9f5",
   "metadata": {},
   "outputs": [],
   "source": [
    "#Méthodes d'évaluation et métriques --> Score jaccard car multi_label"
   ]
  },
  {
   "cell_type": "code",
   "execution_count": null,
   "id": "3d39d0c5",
   "metadata": {},
   "outputs": [],
   "source": []
  },
  {
   "cell_type": "code",
   "execution_count": null,
   "id": "28b677da",
   "metadata": {},
   "outputs": [],
   "source": []
  },
  {
   "cell_type": "code",
   "execution_count": null,
   "id": "df7b75f2",
   "metadata": {},
   "outputs": [],
   "source": []
  },
  {
   "cell_type": "code",
   "execution_count": null,
   "id": "21d033b8",
   "metadata": {},
   "outputs": [],
   "source": []
  },
  {
   "cell_type": "code",
   "execution_count": null,
   "id": "24aaf5ff",
   "metadata": {},
   "outputs": [],
   "source": []
  },
  {
   "cell_type": "code",
   "execution_count": null,
   "id": "000dc20c",
   "metadata": {},
   "outputs": [],
   "source": []
  },
  {
   "cell_type": "code",
   "execution_count": null,
   "id": "e6315bce",
   "metadata": {},
   "outputs": [],
   "source": []
  },
  {
   "cell_type": "code",
   "execution_count": null,
   "id": "b492d0cd",
   "metadata": {},
   "outputs": [],
   "source": []
  },
  {
   "cell_type": "code",
   "execution_count": null,
   "id": "49f58fbf",
   "metadata": {},
   "outputs": [],
   "source": [
    "#Enregistrement de la pipeline de transformation et du modèle pour réemployer dans le code final à déployer"
   ]
  },
  {
   "cell_type": "code",
   "execution_count": null,
   "id": "309c1605",
   "metadata": {},
   "outputs": [],
   "source": []
  },
  {
   "cell_type": "code",
   "execution_count": null,
   "id": "806427aa",
   "metadata": {},
   "outputs": [],
   "source": []
  },
  {
   "cell_type": "code",
   "execution_count": null,
   "id": "f5a7753a",
   "metadata": {},
   "outputs": [],
   "source": []
  },
  {
   "cell_type": "markdown",
   "id": "67b9f457",
   "metadata": {},
   "source": [
    "# Démonstration avec API"
   ]
  },
  {
   "cell_type": "code",
   "execution_count": null,
   "id": "542b098d",
   "metadata": {},
   "outputs": [],
   "source": []
  },
  {
   "cell_type": "code",
   "execution_count": null,
   "id": "d76ffe46",
   "metadata": {},
   "outputs": [],
   "source": [
    "#Stream lite ou Gradio"
   ]
  },
  {
   "cell_type": "code",
   "execution_count": null,
   "id": "9ad80702",
   "metadata": {},
   "outputs": [],
   "source": []
  }
 ],
 "metadata": {
  "kernelspec": {
   "display_name": "Python 3 (ipykernel)",
   "language": "python",
   "name": "python3"
  },
  "language_info": {
   "codemirror_mode": {
    "name": "ipython",
    "version": 3
   },
   "file_extension": ".py",
   "mimetype": "text/x-python",
   "name": "python",
   "nbconvert_exporter": "python",
   "pygments_lexer": "ipython3",
   "version": "3.8.8"
  }
 },
 "nbformat": 4,
 "nbformat_minor": 5
}
